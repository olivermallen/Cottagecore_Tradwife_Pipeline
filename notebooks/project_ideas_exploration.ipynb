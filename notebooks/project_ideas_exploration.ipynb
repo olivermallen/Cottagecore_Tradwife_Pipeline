{
  "cells": [
    {
      "cell_type": "markdown",
      "metadata": {},
      "source": [
        "Tumblr Api Data Collection\n"
      ]
    },
    {
      "cell_type": "code",
      "execution_count": 2,
      "metadata": {},
      "outputs": [
        {
          "name": "stdout",
          "output_type": "stream",
          "text": [
            "^C\n"
          ]
        }
      ],
      "source": [
        "!pip install pytumblr\n"
      ]
    },
    {
      "cell_type": "code",
      "execution_count": 1,
      "metadata": {},
      "outputs": [],
      "source": [
        "import pytumblr"
      ]
    },
    {
      "cell_type": "code",
      "execution_count": 2,
      "metadata": {},
      "outputs": [],
      "source": [
        "keysfile = open(\"/home/mel/Desktop/repos/cottagecore_tradfem_pipeline/keys.txt\", \"r\")\n",
        "keys = keysfile.readlines()\n",
        "\n",
        "\n",
        "client = pytumblr.TumblrRestClient(\n",
        "    keys[0].strip(),\n",
        "    keys[1].strip(),\n",
        "    keys[0].strip(),\n",
        "    keys[1].strip(),\n",
        ")"
      ]
    },
    {
      "cell_type": "code",
      "execution_count": 3,
      "metadata": {},
      "outputs": [],
      "source": [
        "# need to do multiple queries to get more than 20 posts, grab 20 from consecutive 5 hours blocks\n",
        "import time\n",
        "\n",
        "\n",
        "def searchtags(num_posts, tag):\n",
        "    \"\"\"\n",
        "    num_posts is number of posts to fetch\n",
        "    tag is what tag to search\n",
        "    returns a list of results\n",
        "    \"\"\"\n",
        "    num_requests = round(num_posts / 20)\n",
        "    # first timestamp should be 5*num_requests hours before current timestamp\n",
        "    current_time = int(time.time())\n",
        "    sample_time_length = (\n",
        "        18000  # this is how many seconds in between samples, here it is 5 hours\n",
        "    )\n",
        "    sample_time = current_time - num_requests * sample_time_length\n",
        "    results = []\n",
        "    i = 0\n",
        "    while i < num_requests:\n",
        "        results = results + client.tagged(tag=tag, before=sample_time)\n",
        "        i = i + 1\n",
        "        sample_time = sample_time + sample_time_length\n",
        "    return results"
      ]
    },
    {
      "cell_type": "code",
      "execution_count": 7,
      "metadata": {},
      "outputs": [],
      "source": [
        "cottagecore_posts = searchtags(2000, \"cottagecore\")  # is this sufficient for labeling?"
      ]
    },
    {
      "cell_type": "code",
      "execution_count": 5,
      "metadata": {},
      "outputs": [],
      "source": [
        "tradwife_posts = searchtags(2000, \"tradwife\")"
      ]
    },
    {
      "cell_type": "code",
      "execution_count": 8,
      "metadata": {},
      "outputs": [
        {
          "name": "stdout",
          "output_type": "stream",
          "text": [
            "2000\n",
            "sirensrjustreallycool\n"
          ]
        }
      ],
      "source": [
        "print(len(tradwife_posts))\n",
        "print(cottagecore_posts[0][\"blog_name\"])"
      ]
    },
    {
      "cell_type": "code",
      "execution_count": 27,
      "metadata": {},
      "outputs": [
        {
          "name": "stdout",
          "output_type": "stream",
          "text": [
            "Collecting bs4\n",
            "  Downloading bs4-0.0.1.tar.gz (1.1 kB)\n",
            "Requirement already satisfied: beautifulsoup4 in c:\\users\\melka\\appdata\\local\\programs\\python\\python39\\lib\\site-packages (from bs4) (4.11.1)\n",
            "Requirement already satisfied: soupsieve>1.2 in c:\\users\\melka\\appdata\\local\\programs\\python\\python39\\lib\\site-packages (from beautifulsoup4->bs4) (2.3.2.post1)\n",
            "Building wheels for collected packages: bs4\n",
            "  Building wheel for bs4 (setup.py): started\n",
            "  Building wheel for bs4 (setup.py): finished with status 'done'\n",
            "  Created wheel for bs4: filename=bs4-0.0.1-py3-none-any.whl size=1273 sha256=2f61d6752f14ff2d1c201c81b4d101538a2d65babbed35e278b85424c000b89e\n",
            "  Stored in directory: c:\\users\\melka\\appdata\\local\\pip\\cache\\wheels\\73\\2b\\cb\\099980278a0c9a3e57ff1a89875ec07bfa0b6fcbebb9a8cad3\n",
            "Successfully built bs4\n",
            "Installing collected packages: bs4"
          ]
        },
        {
          "name": "stderr",
          "output_type": "stream",
          "text": [
            "WARNING: You are using pip version 20.2.3; however, version 22.2.2 is available.\n",
            "You should consider upgrading via the 'c:\\users\\melka\\appdata\\local\\programs\\python\\python39\\python.exe -m pip install --upgrade pip' command.\n"
          ]
        },
        {
          "name": "stdout",
          "output_type": "stream",
          "text": [
            "\n",
            "Successfully installed bs4-0.0.1\n"
          ]
        }
      ],
      "source": [
        "!pip install bs4"
      ]
    },
    {
      "cell_type": "code",
      "execution_count": 66,
      "metadata": {},
      "outputs": [],
      "source": [
        "# collecting images from all posts, label with name of user who posted image\n",
        "import pandas as pd\n",
        "import requests\n",
        "import shutil\n",
        "import os\n",
        "import sys\n",
        "from bs4 import BeautifulSoup\n",
        "\n",
        "\n",
        "def fetch_image(url, filename):\n",
        "    \"\"\"\n",
        "    fetches image at url and saves it with filename\n",
        "    \"\"\"\n",
        "    r = requests.get(url, stream=True)\n",
        "    if r.status_code == 200:\n",
        "        # Set decode_content value to True, otherwise the downloaded image file's size will be zero.\n",
        "        r.raw.decode_content = True\n",
        "        # Open a local file with wb ( write binary ) permission.\n",
        "        with open(filename, \"wb\") as f:\n",
        "            shutil.copyfileobj(r.raw, f)\n",
        "\n",
        "\n",
        "def download_images(list_of_posts, foldername):\n",
        "    \"\"\"\n",
        "    function that downloads images from a list of tumblr posts (list_of_posts) and saves them to a folder called foldername. username of poster is in the filename.\n",
        "    \"\"\"\n",
        "    # create folder if not already made\n",
        "    if not os.path.exists(foldername):\n",
        "        os.makedirs(foldername)\n",
        "    for post in list_of_posts:\n",
        "        # first I need to extract all image urls from json object which are in post['body'] and post['reblog']['comment'] OR post['photos'] photo['original_size']['url']\n",
        "        poster_url = post[\"blog_name\"]\n",
        "        i = 0\n",
        "        if \"body\" in post:\n",
        "            # print(post['body'])\n",
        "            soup = BeautifulSoup(post[\"body\"])\n",
        "            images = soup.find_all(\"img\")\n",
        "            for image in images:\n",
        "                # print(\"printing image\")\n",
        "                # print(image.get(\"src\"))\n",
        "                fetch_image(\n",
        "                    image.get(\"src\"),\n",
        "                    foldername + \"/\" + poster_url + \"postnum\" + str(i) + \".jpg\",\n",
        "                )\n",
        "                i = i + 1\n",
        "        elif \"photos\" in post:\n",
        "            for photo in post[\"photos\"]:\n",
        "                # print(photo['original_size']['url'])\n",
        "                soup = BeautifulSoup(photo[\"original_size\"][\"url\"])\n",
        "                images = soup.find_all(\"img\")\n",
        "                for image in images:\n",
        "                    # print(\"printing image\")\n",
        "                    # print(image.get(\"src\"))\n",
        "                    fetch_image(\n",
        "                        image.get(\"src\"),\n",
        "                        foldername + \"/\" + poster_url + \"postnum\" + str(i) + \".jpg\",\n",
        "                    )\n",
        "                    i = i + 1\n",
        "        if \"reblog\" in post:\n",
        "            # print(post['reblog']['comment'])\n",
        "            soup = BeautifulSoup(post[\"reblog\"][\"comment\"])\n",
        "            images = soup.find_all(\"img\")\n",
        "            for image in images:\n",
        "                # print(\"printing image\")\n",
        "                # print(image.get(\"src\"))\n",
        "                fetch_image(\n",
        "                    image.get(\"src\"),\n",
        "                    foldername + \"/\" + poster_url + \"postnum\" + str(i) + \".jpg\",\n",
        "                )\n",
        "                i = i + 1"
      ]
    },
    {
      "cell_type": "code",
      "execution_count": 71,
      "metadata": {},
      "outputs": [],
      "source": [
        "# print(cottagecore_posts[1])\n",
        "download_images(cottagecore_posts, \"testfolder\")"
      ]
    },
    {
      "cell_type": "code",
      "execution_count": 72,
      "metadata": {},
      "outputs": [],
      "source": [
        "# saving tumblr api info to pickle file\n",
        "import pickle\n",
        "\n",
        "with open(\"cottagecore.pkl\", \"wb\") as f:\n",
        "    pickle.dump(cottagecore_posts, f)\n",
        "with open(\"tradfem.pkl\", \"wb\") as f:\n",
        "    pickle.dump(tradwife_posts, f)\n",
        "\n",
        "# data gathered and images downloaded 10.3.2022"
      ]
    },
    {
      "cell_type": "markdown",
      "metadata": {},
      "source": [
        "Making Pipeline to collect data "
      ]
    },
    {
      "cell_type": "code",
      "execution_count": 53,
      "metadata": {},
      "outputs": [],
      "source": [
        "import pickle\n",
        "\n",
        "with open(\"1665500636_8.pkl\", \"rb\") as f:\n",
        "    tradfem_posts = pickle.load(f)"
      ]
    },
    {
      "cell_type": "code",
      "execution_count": 54,
      "metadata": {},
      "outputs": [
        {
          "name": "stdout",
          "output_type": "stream",
          "text": [
            "2022-10-11 17:28:51 GMT\n",
            "2022-10-11 17:28:39 GMT\n",
            "2022-10-11 17:28:27 GMT\n",
            "2022-10-11 17:15:08 GMT\n",
            "2022-10-11 17:08:40 GMT\n",
            "2022-10-11 17:06:25 GMT\n",
            "2022-10-11 17:04:02 GMT\n",
            "2022-10-11 16:41:45 GMT\n",
            "2022-10-11 16:38:07 GMT\n",
            "2022-10-11 16:31:29 GMT\n",
            "2022-10-11 16:30:53 GMT\n",
            "2022-10-11 16:20:45 GMT\n",
            "2022-10-11 16:15:30 GMT\n",
            "2022-10-11 16:14:26 GMT\n",
            "2022-10-11 15:55:07 GMT\n",
            "2022-10-11 15:39:41 GMT\n",
            "2022-10-11 15:34:39 GMT\n",
            "2022-10-11 15:28:04 GMT\n",
            "2022-10-11 15:06:50 GMT\n",
            "2022-10-11 15:03:56 GMT\n"
          ]
        }
      ],
      "source": [
        "for post in tradfem_posts:\n",
        "    print(post[\"date\"])"
      ]
    },
    {
      "cell_type": "code",
      "execution_count": 47,
      "metadata": {},
      "outputs": [
        {
          "name": "stdout",
          "output_type": "stream",
          "text": [
            "post\n",
            "post\n",
            "post\n",
            "post\n",
            "post\n",
            "post\n",
            "post\n",
            "post\n",
            "post\n",
            "post\n",
            "{'time_posted': ['2022-09-12 04:11:06 GMT', '2022-09-09 01:21:34 GMT', '2022-09-07 15:09:26 GMT', '2022-09-05 18:04:11 GMT', '2022-09-05 01:03:57 GMT', '2022-09-04 15:16:33 GMT', '2022-09-02 22:26:54 GMT', '2022-09-02 21:43:18 GMT', '2022-09-02 21:41:45 GMT', '2022-09-02 14:07:24 GMT'], 'blog_name': ['rosetintedtypewriter', 'followhisrules', 'pinkfeminimity', 'vintagepaganhousewife', 'broadwayninja', 'classically-abby', 'grymmarts', 'contemporarytradwife', 'contemporarytradwife', 'unfashionablehousewife'], 'post_id': ['695159610871595008', '694877153648689152', '694748044227411968', '694577845001961472', '694513657818890240', '694476701176070144', '694322582690873344', '694319839510249472', '694319742578737152', '694291156528496640'], 'post_type': ['text', 'text', 'text', 'text', 'text', 'text', 'photo', 'text', 'text', 'quote'], 'image_urls': [[], [], [], [], [], [], [], ['https://64.media.tumblr.com/79cbd7c6cb54bd4be3dfda43a1571251/2df049122dc90db2-76/s640x960/fcc30ac0ac5371d07b48f23c373b3f617b42ccfa.jpg', 'https://64.media.tumblr.com/79cbd7c6cb54bd4be3dfda43a1571251/2df049122dc90db2-76/s640x960/fcc30ac0ac5371d07b48f23c373b3f617b42ccfa.jpg'], ['https://64.media.tumblr.com/5f3f9330169f6faeb5891cc0615e215e/fded86f692642b51-0b/s640x960/ebda7918344250d71c525f88aaa25b8ced0cd0ab.jpg', 'https://64.media.tumblr.com/5f3f9330169f6faeb5891cc0615e215e/fded86f692642b51-0b/s640x960/ebda7918344250d71c525f88aaa25b8ced0cd0ab.jpg'], []], 'tags': [['tradblr', 'traditional femininity', 'traditional gender roles', 'tradwife', 'pining', 'christian', 'christianity', 'tradfem'], ['tradfem', 'traditional family', 'tradwife', 'traditional femininity', 'traditional gender roles', 'the blessed virgin mary', 'traditional catholicism', 'traditional wife', 'pray', '❤️❤️🙏🙏our lord', 'cottagecore', 'grandmacore', 'cottage vibes', 'bred', 'impregnate', 'doggylove', 'pleaser', 'i lik the bred', 'breadmaking', 'bread', 'baking bread', 'baking', 'recipes', 'food', 'let’s get this bread'], ['tradwife', 'tradfem', 'love', 'married', 'mumblr', 'sahm', 'housewife', 'romantic'], ['1950s', '50s housewife', 'tradwife', 'tradfem', '50s Children'], ['brb dying of laughter', 'tiktok', 'trad wives', 'tradwife'], ['classically abby', 'traditional femininity', 'tradwife', 'classy', 'tradfem', 'traditional gender roles', 'classically abby vtuber project', 'psychic visions'], ['grymmarts', 'mothman', 'cryptid', 'tradwife', 'monster', 'art', 'weird'], ['tradwife', 'traditional wife', 'christian femininity', 'antifeminism', 'traditional femininity'], ['traditional wife', 'tradwife', 'antifeminism', 'traditional femininity', 'christian femininity', 'stay at home mum', 'wife', 'christian inspiration'], ['nontrad housewife', 'tradwife', 'tradfem', 'pagan housewife', 'homemaking', 'homemaker', 'housewife']], 'post_text': ['<p>The want for a husband is striking once more.</p><p>No, I don’t particularly wanna deal with the dating phase.</p><p>Just gimme hubby.</p><p>Stat</p>', '<h1>Bread Recopy!</h1><p>Hello fellow tradwifies! Sorry for being gone so long, I had to research a very good bread recopy recipe. I finally found it : D<br/><br/>So I guess I will share it (since I didn&rsquo;t get any from you when I asked):<br/><br/>You need:<br/>- 1 cup of filtered water (Nestle)<br/>- 4 cups of unbleached organic (or homegrown) flour (I of course have homegrown)<br/>- salt to taste<br/>- sourdough starter i guess<br/>- that basket thing<br/><br/>Instructions:<br/>1. Clopper everything together in a very large bowl. Don&rsquo;t look twice. <br/>2. Second, let sit for a while (over night?)<br/>3. Put in basket, then bake it in the oven at what 220°C are in Fahrenheit or what we Americans have. Something with 300 I think</p><p>Let it cool before digging in. It has to sit for a while or you ARE going to crush it. You also can make small cuts in the bread as decorations.<br/><br/>Please try and then let me know what you thought about it!<br/>(and if you do, keep an eye on it. I&rsquo;m not sure if the basket actually is a fire hazard or something HEHEHE)</p>', '<p class=\"npf_chat\"><span class=\"npf_color_niles\">A few th<i>ings I love about being a wife..♡</i></span></p><p><br/></p><p><span class=\"npf_color_niles\">Always a Passenger</span><span class=\"npf_color_niles\"> Princess!</span></p><p><span class=\"npf_color_niles\">He makes the phone calls I&rsquo;m too nervous for.. which is literally all of them. </span></p><p><span class=\"npf_color_niles\">He pays the bills I just budget them! 💍 ♡</span></p>', '<p class=\"npf_link\" data-npf=\\'{\"type\":\"link\",\"url\":\"https://theweek.com/articles/446412/9-delightful-recipes-from-1950s-should-make-kids-today#axzz33nWJJRKo\",\"display_url\":\"https://theweek.com/articles/446412/9-delightful-recipes-from-1950s-should-make-kids-today#axzz33nWJJRKo\",\"title\":\"9 delightful recipes from the 1950s you should make with your kids today\",\"description\":\"Yes, you can cook like a Cleaver\",\"site_name\":\"The Week\",\"poster\":[{\"media_key\":\"104af61e21971d8d80e015a6c22abef9:4e2ecbb47d63a573-41\",\"type\":\"image/jpeg\",\"width\":814,\"height\":458}]}\\'><a href=\"https://theweek.com/articles/446412/9-delightful-recipes-from-1950s-should-make-kids-today#axzz33nWJJRKo\" target=\"_blank\">9 delightful recipes from the 1950s you should make with your kids today</a></p><p>They look so sweet - I wanna try them for my kids.</p>', '<h1>… I want to hear your tips for a streak-free shine, MacKinnsleiygh, not about how ~the Lord~ called you to be a “helpmeet” to the manchild you married. </h1><p>- my sister, discussing the infestation of tradwife types on cleaning hack!TikTok</p>', '<p>Hey girlies,</p><p>It’s White Claw Sunday! Let’s get classy! </p><p>- Classically Abby</p>', '<p>I love how I now get commissioned for Mothman maids and spider narwhals. I’m happy in my weird little art wizard niche.<br/></p>', '<figure class=\"tmblr-full\" data-orig-height=\"1175\" data-orig-width=\"828\"><img src=\"https://64.media.tumblr.com/79cbd7c6cb54bd4be3dfda43a1571251/2df049122dc90db2-76/s640x960/fcc30ac0ac5371d07b48f23c373b3f617b42ccfa.jpg\" data-orig-height=\"1175\" data-orig-width=\"828\"/></figure><p>Biblical gender roles another amazing page to follow!</p>', '<figure class=\"tmblr-full\" data-orig-height=\"633\" data-orig-width=\"828\"><img src=\"https://64.media.tumblr.com/5f3f9330169f6faeb5891cc0615e215e/fded86f692642b51-0b/s640x960/ebda7918344250d71c525f88aaa25b8ced0cd0ab.jpg\" data-orig-height=\"633\" data-orig-width=\"828\"/></figure><p>I want to touch on this, allot of feminist men and women think a woman aspiring to be stay at home mother is “lazy”  or not a “real job”. But how is GIVING UP money and giving this power to your husband so you can effectively raise your in Gods way. Is this not the most selfless act? I am not against working women but let’s not act like being a mother/wife is the most important job for all women.</p>', 'An invented past can never be used; it cracks and crumbles under the pressures of life like clay in a season of drought.'], 'post_url': ['https://rosetintedtypewriter.tumblr.com/post/695159610871595008/the-want-for-a-husband-is-striking-once-more-no', 'https://followhisrules.tumblr.com/post/694877153648689152/bread-recopy', 'https://pinkfeminimity.tumblr.com/post/694748044227411968/a-few-things-i-love-about-being-a-wife-always', 'https://vintagepaganhousewife.tumblr.com/post/694577845001961472/9-delightful-recipes-from-the-1950s-you-should', 'https://broadwayninja.tumblr.com/post/694513657818890240/i-want-to-hear-your-tips-for-a-streak-free', 'https://classically-abby.tumblr.com/post/694476701176070144/hey-girlies-its-white-claw-sunday-lets-get', 'https://grymmarts.tumblr.com/post/694322582690873344/i-love-how-i-now-get-commissioned-for-mothman', 'https://contemporarytradwife.tumblr.com/post/694319839510249472/biblical-gender-roles-another-amazing-page-to', 'https://contemporarytradwife.tumblr.com/post/694319742578737152/i-want-to-touch-on-this-allot-of-feminist-men-and', 'https://unfashionablehousewife.tumblr.com/post/694291156528496640/an-invented-past-can-never-be-used-it-cracks-and']}\n"
          ]
        }
      ],
      "source": [
        "import pandas\n",
        "import pandas as pd\n",
        "import requests\n",
        "import shutil\n",
        "import os\n",
        "import sys\n",
        "from bs4 import BeautifulSoup\n",
        "\n",
        "dataframedict = {\n",
        "    \"time_posted\": [],\n",
        "    \"blog_name\": [],\n",
        "    \"post_id\": [],\n",
        "    \"post_type\": [],\n",
        "    \"image_urls\": [],\n",
        "    \"tags\": [],\n",
        "    \"post_url\": [],\n",
        "}\n",
        "\n",
        "\n",
        "def fetch_image(url, filename):\n",
        "    \"\"\"\n",
        "    fetches image at url and saves it with filename\n",
        "    \"\"\"\n",
        "    r = requests.get(url, stream=True)\n",
        "    if r.status_code == 200:\n",
        "        # Set decode_content value to True, otherwise the downloaded image file's size will be zero.\n",
        "        r.raw.decode_content = True\n",
        "        # Open a local file with wb ( write binary ) permission.\n",
        "        with open(filename, \"wb\") as f:\n",
        "            shutil.copyfileobj(r.raw, f)\n",
        "\n",
        "\n",
        "for post in tradfem_posts[0:10]:\n",
        "    # time posted\n",
        "    dataframedict[\"time_posted\"].append(post[\"date\"])\n",
        "    # blog name\n",
        "    dataframedict[\"blog_name\"].append(post[\"blog_name\"])\n",
        "    # post id\n",
        "    dataframedict[\"post_id\"].append(post[\"id_string\"])\n",
        "    # post type\n",
        "    dataframedict[\"post_type\"].append(post[\"type\"])\n",
        "    # image_urls\n",
        "    # first I need to extract all image urls from json object which are in post['body'] and post['reblog']['comment'] OR post['photos'] photo['original_size']['url']\n",
        "    image_urls = []\n",
        "    if \"body\" in post:\n",
        "        soup = BeautifulSoup(post[\"body\"])\n",
        "        images = soup.find_all(\"img\")\n",
        "        for image in images:\n",
        "            image_urls.append(image.get(\"src\"))\n",
        "    elif \"photos\" in post:\n",
        "        for photo in post[\"photos\"]:\n",
        "            soup = BeautifulSoup(photo[\"original_size\"][\"url\"])\n",
        "            images = soup.find_all(\"img\")\n",
        "            for image in images:\n",
        "                image_urls.append(image.get(\"src\"))\n",
        "    if \"reblog\" in post:\n",
        "        soup = BeautifulSoup(post[\"reblog\"][\"comment\"])\n",
        "        images = soup.find_all(\"img\")\n",
        "        for image in images:\n",
        "            image_urls.append(image.get(\"src\"))\n",
        "    dataframedict[\"image_urls\"].append(image_urls)\n",
        "    # now download images\n",
        "    i = 0\n",
        "    for image in image_urls:\n",
        "        fetch_image(image, \"images/\" + post[\"id_string\"] + \"_\" + str(i) + \".jpg\")\n",
        "        i = i + 1\n",
        "    # tags\n",
        "    dataframedict[\"tags\"].append(post[\"tags\"])\n",
        "    # post text\n",
        "    # if post[\"type\"]==\"photo\":\n",
        "    #     raw_text = post[\"caption\"]\n",
        "    # elif post[\"type\"]==\"quote\":\n",
        "    #     raw_text = post[\"text\"]\n",
        "    # else:\n",
        "    #     try:\n",
        "    #         raw_text = post[\"body\"]\n",
        "    #     except KeyError:\n",
        "    #         raw_text = \"\"\n",
        "    # dataframedict[\"post_text\"].append(raw_text)\n",
        "    # post url\n",
        "    dataframedict[\"post_url\"].append(post[\"post_url\"])\n",
        "    print(\"post\")\n",
        "\n",
        "print(dataframedict)"
      ]
    },
    {
      "cell_type": "markdown",
      "metadata": {},
      "source": [
        "Computer vision object detection - not many detectable objects, maybe try a different dataset or train your own model based on pre-trained weights"
      ]
    },
    {
      "cell_type": "code",
      "execution_count": 3,
      "metadata": {},
      "outputs": [],
      "source": [
        "# use computer vision to identify objects in images\n",
        "import torch"
      ]
    },
    {
      "cell_type": "code",
      "execution_count": 4,
      "metadata": {},
      "outputs": [
        {
          "name": "stderr",
          "output_type": "stream",
          "text": [
            "Using cache found in C:\\Users\\melka/.cache\\torch\\hub\\ultralytics_yolov5_master\n",
            "YOLOv5  2022-10-12 Python-3.9.12 torch-1.12.1+cpu CPU\n",
            "\n",
            "Downloading https://github.com/ultralytics/yolov5/releases/download/v6.2/yolov5s.pt to yolov5s.pt...\n"
          ]
        },
        {
          "data": {
            "application/vnd.jupyter.widget-view+json": {
              "model_id": "c5c6a6e9b8454e8cb6a4603ed02674ce",
              "version_major": 2,
              "version_minor": 0
            },
            "text/plain": [
              "  0%|          | 0.00/14.1M [00:00<?, ?B/s]"
            ]
          },
          "metadata": {},
          "output_type": "display_data"
        },
        {
          "name": "stderr",
          "output_type": "stream",
          "text": [
            "\n",
            "Fusing layers... \n",
            "YOLOv5s summary: 213 layers, 7225885 parameters, 0 gradients\n",
            "Adding AutoShape... \n"
          ]
        }
      ],
      "source": [
        "model = torch.hub.load(\"ultralytics/yolov5\", \"yolov5s\", pretrained=True)"
      ]
    },
    {
      "cell_type": "code",
      "execution_count": 5,
      "metadata": {},
      "outputs": [],
      "source": [
        "imgs = [\"testfolder/0lilithray0postnum0.jpg\"]\n",
        "import os\n",
        "import numpy as np\n",
        "\n",
        "filenames = os.listdir()"
      ]
    },
    {
      "cell_type": "code",
      "execution_count": 18,
      "metadata": {},
      "outputs": [
        {
          "ename": "TypeError",
          "evalue": "'Detections' object is not subscriptable",
          "output_type": "error",
          "traceback": [
            "\u001b[1;31m---------------------------------------------------------------------------\u001b[0m",
            "\u001b[1;31mTypeError\u001b[0m                                 Traceback (most recent call last)",
            "\u001b[1;32mc:\\Users\\melka\\OneDrive\\Desktop\\cottagecore_tradfem_pipeline\\project_ideas_exploration.ipynb Cell 17\u001b[0m in \u001b[0;36m<cell line: 4>\u001b[1;34m()\u001b[0m\n\u001b[0;32m      <a href='vscode-notebook-cell:/c%3A/Users/melka/OneDrive/Desktop/cottagecore_tradfem_pipeline/project_ideas_exploration.ipynb#X22sZmlsZQ%3D%3D?line=1'>2</a>\u001b[0m imgs \u001b[39m=\u001b[39m os\u001b[39m.\u001b[39mlistdir(\u001b[39m'\u001b[39m\u001b[39mtestfolder\u001b[39m\u001b[39m'\u001b[39m)\n\u001b[0;32m      <a href='vscode-notebook-cell:/c%3A/Users/melka/OneDrive/Desktop/cottagecore_tradfem_pipeline/project_ideas_exploration.ipynb#X22sZmlsZQ%3D%3D?line=2'>3</a>\u001b[0m os\u001b[39m.\u001b[39mchdir(\u001b[39m'\u001b[39m\u001b[39mtestfolder\u001b[39m\u001b[39m'\u001b[39m)\n\u001b[1;32m----> <a href='vscode-notebook-cell:/c%3A/Users/melka/OneDrive/Desktop/cottagecore_tradfem_pipeline/project_ideas_exploration.ipynb#X22sZmlsZQ%3D%3D?line=3'>4</a>\u001b[0m results\u001b[39m=\u001b[39mmodel(imgs[\u001b[39m1\u001b[39;49m:\u001b[39m10\u001b[39;49m])[\u001b[39m0\u001b[39;49m]\n\u001b[0;32m      <a href='vscode-notebook-cell:/c%3A/Users/melka/OneDrive/Desktop/cottagecore_tradfem_pipeline/project_ideas_exploration.ipynb#X22sZmlsZQ%3D%3D?line=4'>5</a>\u001b[0m resultsnumpy \u001b[39m=\u001b[39m results\u001b[39m.\u001b[39mdetach()\u001b[39m.\u001b[39mcpu()\u001b[39m.\u001b[39mnumpy()\n\u001b[0;32m      <a href='vscode-notebook-cell:/c%3A/Users/melka/OneDrive/Desktop/cottagecore_tradfem_pipeline/project_ideas_exploration.ipynb#X22sZmlsZQ%3D%3D?line=5'>6</a>\u001b[0m np\u001b[39m.\u001b[39msavetxt(\u001b[39m\"\u001b[39m\u001b[39mimageclassifications.csv\u001b[39m\u001b[39m\"\u001b[39m, results)\n",
            "\u001b[1;31mTypeError\u001b[0m: 'Detections' object is not subscriptable"
          ]
        }
      ],
      "source": [
        "os.chdir(\"C:/Users/melka/OneDrive/Desktop/cottagecore_tradfem_pipeline\")\n",
        "imgs = os.listdir(\"testfolder\")\n",
        "os.chdir(\"testfolder\")\n",
        "results = model(imgs[1:10])\n",
        "resultsnumpy = results.detach().cpu().numpy()\n",
        "np.savetxt(\"imageclassifications.csv\", results)"
      ]
    },
    {
      "cell_type": "markdown",
      "metadata": {},
      "source": [
        "Computer vision capture similarity in aesthetic between two groups of images - is this possible? try resnet50 feature extraction and calculate similarity, do lit review"
      ]
    },
    {
      "cell_type": "markdown",
      "metadata": {},
      "source": [
        "Network Analysis (Tag Based)"
      ]
    },
    {
      "cell_type": "code",
      "execution_count": 10,
      "metadata": {},
      "outputs": [],
      "source": [
        "import networkx as nx"
      ]
    },
    {
      "cell_type": "code",
      "execution_count": 11,
      "metadata": {},
      "outputs": [
        {
          "name": "stdout",
          "output_type": "stream",
          "text": [
            "True\n"
          ]
        }
      ],
      "source": [
        "# now creating bipartite network with tags and blog names\n",
        "B = nx.Graph()\n",
        "from networkx.algorithms import bipartite\n",
        "\n",
        "for post in cottagecore_posts:\n",
        "    blog_name = post[\"blog_name\"]  # string\n",
        "    tags = post[\"tags\"]  # list of strings\n",
        "    B.add_node(\n",
        "        blog_name, type=\"user\", leaning=\"cottagecore\", mode=2\n",
        "    )  # adding integer value for event graph layout\n",
        "    for tag in tags:\n",
        "        if \"#\" + tag not in B.nodes():\n",
        "            B.add_node(\"#\" + tag, type=\"tag\", mode=1)\n",
        "        B.add_edge(\"#\" + tag, blog_name)\n",
        "\n",
        "for post in tradwife_posts:\n",
        "    blog_name = post[\"blog_name\"]  # string\n",
        "    tags = post[\"tags\"]  # list of strings\n",
        "    B.add_node(blog_name, type=\"user\", leaning=\"tradwife\", mode=2)\n",
        "    for tag in tags:\n",
        "        if \"#\" + tag not in B.nodes():\n",
        "            B.add_node(\"#\" + tag, type=\"tag\", mode=1)\n",
        "        B.add_edge(\"#\" + tag, blog_name)\n",
        "\n",
        "\n",
        "print(bipartite.is_bipartite(B))"
      ]
    },
    {
      "cell_type": "code",
      "execution_count": 12,
      "metadata": {},
      "outputs": [
        {
          "data": {
            "image/png": "[encoded data removed]",
            "text/plain": [
              "<Figure size 432x288 with 1 Axes>"
            ]
          },
          "metadata": {},
          "output_type": "display_data"
        }
      ],
      "source": [
        "user_nodes = {n for n, d in B.nodes(data=True) if d[\"type\"] == \"user\"}\n",
        "pos = nx.bipartite_layout(B, user_nodes)\n",
        "nx.draw(B, pos=pos)"
      ]
    },
    {
      "cell_type": "code",
      "execution_count": 13,
      "metadata": {},
      "outputs": [
        {
          "name": "stdout",
          "output_type": "stream",
          "text": [
            "4580\n",
            "8722\n"
          ]
        }
      ],
      "source": [
        "print(len(B.nodes()))\n",
        "print(len(B.edges()))"
      ]
    },
    {
      "cell_type": "code",
      "execution_count": 14,
      "metadata": {},
      "outputs": [],
      "source": [
        "nx.write_graphml(B, \"bipartitenetwork.graphml\")"
      ]
    },
    {
      "cell_type": "code",
      "execution_count": 15,
      "metadata": {},
      "outputs": [],
      "source": [
        "# get projection\n",
        "W = bipartite.weighted_projected_graph(B, user_nodes)"
      ]
    },
    {
      "cell_type": "code",
      "execution_count": 18,
      "metadata": {},
      "outputs": [
        {
          "name": "stdout",
          "output_type": "stream",
          "text": [
            "736\n",
            "248390\n"
          ]
        }
      ],
      "source": [
        "print(len(W.nodes()))\n",
        "print(len(W.edges()))"
      ]
    },
    {
      "cell_type": "code",
      "execution_count": 19,
      "metadata": {},
      "outputs": [],
      "source": [
        "# color projection\n",
        "node_colors = []\n",
        "for node, data in W.nodes(data=True):\n",
        "    if data[\"leaning\"] == \"cottagecore\":\n",
        "        node_colors.append(\"blue\")\n",
        "    else:\n",
        "        node_colors.append(\"red\")"
      ]
    },
    {
      "cell_type": "code",
      "execution_count": 20,
      "metadata": {},
      "outputs": [],
      "source": [
        "nx.write_graphml(W, \"usernetwork.graphml\")"
      ]
    },
    {
      "cell_type": "code",
      "execution_count": 21,
      "metadata": {},
      "outputs": [
        {
          "data": {
            "image/png": "[encoded data removed]",
            "text/plain": [
              "<Figure size 432x288 with 1 Axes>"
            ]
          },
          "metadata": {},
          "output_type": "display_data"
        }
      ],
      "source": [
        "nx.draw(W, node_color=node_colors)"
      ]
    },
    {
      "cell_type": "code",
      "execution_count": 22,
      "metadata": {},
      "outputs": [
        {
          "data": {
            "image/png": "[encoded data removed]",
            "text/plain": [
              "<Figure size 432x288 with 1 Axes>"
            ]
          },
          "metadata": {},
          "output_type": "display_data"
        }
      ],
      "source": [
        "# other projection\n",
        "tag_nodes = B.nodes() - user_nodes\n",
        "W2 = bipartite.weighted_projected_graph(B, tag_nodes)\n",
        "nx.draw(W2)"
      ]
    },
    {
      "cell_type": "code",
      "execution_count": 23,
      "metadata": {},
      "outputs": [
        {
          "name": "stdout",
          "output_type": "stream",
          "text": [
            "3844\n",
            "104952\n"
          ]
        }
      ],
      "source": [
        "print(len(W2.nodes()))\n",
        "print(len(W2.edges()))"
      ]
    }
  ],
  "metadata": {
    "colab": {
      "provenance": []
    },
    "kernelspec": {
      "display_name": "Python 3.9.12 ('base')",
      "language": "python",
      "name": "python3"
    },
    "language_info": {
      "codemirror_mode": {
        "name": "ipython",
        "version": 3
      },
      "file_extension": ".py",
      "mimetype": "text/x-python",
      "name": "python",
      "nbconvert_exporter": "python",
      "pygments_lexer": "ipython3",
      "version": "3.9.12"
    },
    "vscode": {
      "interpreter": {
        "hash": "f480f7786de7adf966a151a53d89e3c1e67cee6525f9a54cb5b41853abc8cf12"
      }
    }
  },
  "nbformat": 4,
  "nbformat_minor": 0
}
