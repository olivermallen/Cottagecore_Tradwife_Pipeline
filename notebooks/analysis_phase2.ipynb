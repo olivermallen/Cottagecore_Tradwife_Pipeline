{
 "cells": [
  {
   "cell_type": "code",
   "execution_count": 5,
   "metadata": {},
   "outputs": [],
   "source": [
    "import pickle\n",
    "import pandas as pd\n",
    "import networkx as nx"
   ]
  },
  {
   "cell_type": "code",
   "execution_count": 6,
   "metadata": {},
   "outputs": [
    {
     "name": "stdout",
     "output_type": "stream",
     "text": [
      "               time_posted           blog_name             post_id post_type  \\\n",
      "0  2022-04-24 19:20:26 GMT          loftyangel  682442648358961152     photo   \n",
      "1  2022-04-24 19:20:23 GMT          happyheidi  682442645664055296      text   \n",
      "2  2022-04-24 19:05:25 GMT  herartificialworld  682441703660175360      text   \n",
      "3  2022-04-24 18:18:47 GMT           ddreiberg  682438769880793088      text   \n",
      "4  2022-04-24 18:11:37 GMT       0-solshroom-0  682438319111602176      text   \n",
      "\n",
      "                                          image_urls  \\\n",
      "0                                                 []   \n",
      "1  [https://64.media.tumblr.com/892e4da6414ce00b1...   \n",
      "2  [https://64.media.tumblr.com/840696a8019cceb54...   \n",
      "3  [https://64.media.tumblr.com/5cb21a9d5de58b8af...   \n",
      "4                                                 []   \n",
      "\n",
      "                                               links  \\\n",
      "0                                                 []   \n",
      "1  [https://moodcafe.tumblr.com/post/660065999662...   \n",
      "2                                                 []   \n",
      "3                                                 []   \n",
      "4                                                 []   \n",
      "\n",
      "                                                tags  \\\n",
      "0  [bread, baking, food, cottagecore, buns, chigi...   \n",
      "1  [the colors!! <3, cottagecore, nature, naturec...   \n",
      "2  [gardening, garden update, gardencore, cottage...   \n",
      "3  [it’s bird time, my art, digital art, cottagec...   \n",
      "4  [cottagecore, idk i’m romanticizing my farm li...   \n",
      "\n",
      "                                            post_url  \n",
      "0  https://loftyangel.tumblr.com/post/68244264835...  \n",
      "1  https://happyheidi.tumblr.com/post/68244264566...  \n",
      "2  https://herartificialworld.tumblr.com/post/682...  \n",
      "3  https://ddreiberg.tumblr.com/post/682438769880...  \n",
      "4  https://www.tumblr.com/blog/view/0-solshroom-0...  \n",
      "208102\n"
     ]
    }
   ],
   "source": [
    "with open(\n",
    "    \"/home/mel/Desktop/repos/cottagecore_tradfem_pipeline/pickle_files/full_data2.pkl\",\n",
    "    \"rb\",\n",
    ") as f:\n",
    "    df = pickle.load(f)\n",
    "print(df.head())\n",
    "print(len(df))"
   ]
  },
  {
   "cell_type": "code",
   "execution_count": 15,
   "metadata": {},
   "outputs": [
    {
     "name": "stdout",
     "output_type": "stream",
     "text": [
      "1557\n",
      "Num nodes: 746\n",
      "Num edges: 11545\n"
     ]
    }
   ],
   "source": [
    "# getting tradwife tags thru co-occurence network\n",
    "\n",
    "# start with all the posts tagged tradwife\n",
    "contains = [\"tradwife\" in tags for tags in df[\"tags\"]]\n",
    "tradwifedf = df[contains]\n",
    "print(len(tradwifedf))\n",
    "\n",
    "\n",
    "# now build a network with tags from those posts\n",
    "def make_cooccurence(df):\n",
    "    \"\"\"\n",
    "    takes a df of tumblr posts (cleaned by cleandata2.py) and returns a networkx tag co-occurence graph\n",
    "\n",
    "    pandas df -> networkx graph\n",
    "    \"\"\"\n",
    "    T = nx.Graph()\n",
    "\n",
    "    for index, row in df.iterrows():  # loop thru posts\n",
    "        for tag1 in row[\"tags\"]:\n",
    "            for tag2 in row[\"tags\"]:  # for each combination of tags within a post\n",
    "                if tag1 != tag2:  # if they are not the same tag\n",
    "                    if T.has_edge(tag1, tag2):\n",
    "                        T[tag1][tag2][\"weight\"] = T[tag1][tag2][\"weight\"] + 1\n",
    "                    else:\n",
    "                        T.add_edge(tag1, tag2, weight=1)\n",
    "    print(\"Num nodes: \" + str(len(T.nodes())))\n",
    "    print(\"Num edges: \" + str(len(T.edges())))\n",
    "    return T\n",
    "\n",
    "\n",
    "T = make_cooccurence(tradwifedf)"
   ]
  },
  {
   "cell_type": "code",
   "execution_count": 33,
   "metadata": {},
   "outputs": [
    {
     "name": "stdout",
     "output_type": "stream",
     "text": [
      "87\n",
      "['June', 'modest', 'femininity', '14th', 'cuteanimals', 'animallover', 'mushroomcore', 'forestcore', 'modestclothing', 'meadow', 'farmcore', 'fairycore', 'cute', 'cottagecore aesthetic', '2021', 'cottage core', 'fairy', 'homestead', 'cottagecore', 'farm life', 'grandmacore', 'slow living', 'family', 'April', 'cottage aesthetic', 'homemaker', 'garden', 'grandma', 'vegan', 'honeycore', 'traditional femininity', 'homesteading', 'farming', 'soft', 'oldfashioned', 'cozycore', 'fairy cottage', 'farm', 'feminine style', 'feminine aesthetic', 'country life', 'feminine', 'nature', 'flowers', 'cottage life', 'traditional gender roles', 'tradblr', 'warm and cozy', 'tradcat', '13th', 'May 20th 2021', 'country living', 'April 13th 2021', '26th', 'home', 'naturecore', 'cottagecharm', 'homemaking', 'modesty', 'May', '20th', 'tradfem', 'softcore', 'outfits', 'modestcottagecore', 'housewife', 'prariecore', 'food', 'April 14th 2021', 'traditional', 'forest cottage', 'fairy core', 'cottage', 'cozy cottage', 'babies', 'animals', 'homemade', 'cozy aesthetic', 'vintage', 'country cottage', '31st', 'tradwife', '1st', 'children', 'traditional wife', '30th', 'baby']\n",
      "Selected Tags:  ['traditional femininity', 'traditional gender roles', 'tradblr', 'tradcat', 'tradfem', 'traditional', 'tradwife', 'traditional wife']\n"
     ]
    }
   ],
   "source": [
    "T_trimmed = nx.k_core(T, k=33)  # trimming to 33rd k-core and choosing out of this list\n",
    "print(len(T_trimmed.nodes()))\n",
    "print(T_trimmed.nodes())\n",
    "tradtags = [\n",
    "    \"traditional femininity\",\n",
    "    \"traditional gender roles\",\n",
    "    \"tradblr\",\n",
    "    \"tradcat\",\n",
    "    \"tradfem\",\n",
    "    \"traditional\",\n",
    "    \"tradwife\",\n",
    "    \"traditional wife\",\n",
    "]\n",
    "print(\"Selected Tags: \", tradtags)\n",
    "# other tags that are weird - \"13th\", \"26th\", \"31st\", \"1st\""
   ]
  },
  {
   "cell_type": "code",
   "execution_count": 35,
   "metadata": {},
   "outputs": [
    {
     "name": "stdout",
     "output_type": "stream",
     "text": [
      "2542\n"
     ]
    }
   ],
   "source": [
    "# getting all relevant tradwife posts\n",
    "contains = [not set(tags).isdisjoint(tradtags) for tags in df[\"tags\"]]\n",
    "traddf = df[contains]\n",
    "print(len(traddf))"
   ]
  },
  {
   "cell_type": "code",
   "execution_count": null,
   "metadata": {},
   "outputs": [],
   "source": []
  }
 ],
 "metadata": {
  "kernelspec": {
   "display_name": "base",
   "language": "python",
   "name": "python3"
  },
  "language_info": {
   "codemirror_mode": {
    "name": "ipython",
    "version": 3
   },
   "file_extension": ".py",
   "mimetype": "text/x-python",
   "name": "python",
   "nbconvert_exporter": "python",
   "pygments_lexer": "ipython3",
   "version": "3.9.13"
  }
 },
 "nbformat": 4,
 "nbformat_minor": 2
}
