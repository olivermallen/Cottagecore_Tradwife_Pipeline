{
 "cells": [
  {
   "cell_type": "code",
   "execution_count": 1,
   "metadata": {},
   "outputs": [],
   "source": [
    "import pickle\n",
    "with open('full_data.pkl', 'rb') as f:\n",
    "    df = pickle.load(f)"
   ]
  },
  {
   "cell_type": "code",
   "execution_count": 2,
   "metadata": {},
   "outputs": [
    {
     "name": "stdout",
     "output_type": "stream",
     "text": [
      "               time_posted               blog_name       post_id post_type  \\\n",
      "0  2018-04-23 05:51:59 GMT             llovinghome  173217371373     photo   \n",
      "1  2018-04-23 05:14:38 GMT      technicolourhorror  173216524555     photo   \n",
      "2  2018-04-23 04:37:30 GMT  citadel-of-paper-birds  173215581136     photo   \n",
      "3  2018-04-23 03:32:11 GMT             plainthroat  173213791151     photo   \n",
      "4  2018-04-23 01:14:03 GMT                  beriez  173209961357     photo   \n",
      "\n",
      "  image_urls                                               tags  \\\n",
      "0         []           [mp, cottagecore, warmcore, grandmacore]   \n",
      "1         []     [mine, my photos, flowers, seeds, cottagecore]   \n",
      "2         []  [cottagecore, folk, tea, photography, mine, sp...   \n",
      "3         []  [lovecore, heartcore, cottagecore, honeycore, ...   \n",
      "4         []  [nature, pretty, country, countrycore, cottage...   \n",
      "\n",
      "                                            post_url  \n",
      "0   https://llovinghome.tumblr.com/post/173217371373  \n",
      "1  https://technicolourhorror.tumblr.com/post/173...  \n",
      "2  https://citadel-of-paper-birds.tumblr.com/post...  \n",
      "3   https://plainthroat.tumblr.com/post/173213791151  \n",
      "4        https://beriez.tumblr.com/post/173209961357  \n"
     ]
    }
   ],
   "source": [
    "print(df.head())"
   ]
  },
  {
   "cell_type": "markdown",
   "metadata": {},
   "source": [
    "Making graph with all data "
   ]
  },
  {
   "cell_type": "code",
   "execution_count": 4,
   "metadata": {},
   "outputs": [
    {
     "name": "stdout",
     "output_type": "stream",
     "text": [
      "True\n"
     ]
    }
   ],
   "source": [
    "import networkx as nx\n",
    "from networkx.algorithms import bipartite\n",
    "\n",
    "B = nx.Graph()\n",
    "\n",
    "for index, row in df.iterrows():\n",
    "    if row['blog_name'] not in B.nodes():\n",
    "        B.add_node(row['blog_name'], type = 'user')\n",
    "    for tag in row['tags']:\n",
    "        if '#'+tag not in B.nodes():\n",
    "            B.add_node('#'+tag, type = 'tag')\n",
    "        B.add_edge('#'+tag, row['blog_name'])\n",
    "\n",
    "print(bipartite.is_bipartite(B))"
   ]
  },
  {
   "cell_type": "code",
   "execution_count": null,
   "metadata": {},
   "outputs": [
    {
     "name": "stdout",
     "output_type": "stream",
     "text": [
      "making graph\n"
     ]
    }
   ],
   "source": [
    "user_nodes = {n for n, d in B.nodes(data=True) if d[\"type\"] == \"user\"}\n",
    "print(\"making graph\")\n",
    "W = bipartite.weighted_projected_graph(B, user_nodes)"
   ]
  },
  {
   "cell_type": "code",
   "execution_count": null,
   "metadata": {},
   "outputs": [],
   "source": [
    "nx.write_graphml(W, \"projection_full.graphml\")"
   ]
  }
 ],
 "metadata": {
  "kernelspec": {
   "display_name": "Python 3.9.12 ('base')",
   "language": "python",
   "name": "python3"
  },
  "language_info": {
   "codemirror_mode": {
    "name": "ipython",
    "version": 3
   },
   "file_extension": ".py",
   "mimetype": "text/x-python",
   "name": "python",
   "nbconvert_exporter": "python",
   "pygments_lexer": "ipython3",
   "version": "3.9.12"
  },
  "orig_nbformat": 4,
  "vscode": {
   "interpreter": {
    "hash": "f480f7786de7adf966a151a53d89e3c1e67cee6525f9a54cb5b41853abc8cf12"
   }
  }
 },
 "nbformat": 4,
 "nbformat_minor": 2
}
